{
 "cells": [
  {
   "cell_type": "code",
   "execution_count": 1,
   "id": "08b5122a-4955-4ac6-895c-33bf4da674cb",
   "metadata": {},
   "outputs": [
    {
     "name": "stdout",
     "output_type": "stream",
     "text": [
      "Notebook working dir: C:\\Users\\ryan5\\Documents\\SP1_EmailDetect\\notebooks\n",
      "Files here: ['.ipynb_checkpoints', 'SP1_DataPrep_EDA.ipynb']\n",
      "Files in data/raw: ['sms.tsv']\n",
      "Using file: ../data/raw/sms.tsv\n"
     ]
    }
   ],
   "source": [
    "import os\n",
    "import pandas as pd\n",
    "import numpy as np\n",
    "import matplotlib.pyplot as plt\n",
    "from IPython.display import display\n",
    "%matplotlib inline\n",
    "\n",
    "# Check where we are\n",
    "print(\"Notebook working dir:\", os.getcwd())\n",
    "print(\"Files here:\", os.listdir(os.getcwd()))\n",
    "print(\"Files in data/raw:\", os.listdir('../data/raw'))\n",
    "\n",
    "# Set the correct file path\n",
    "FILE_PATH = '../data/raw/sms.tsv'\n",
    "print(\"Using file:\", FILE_PATH)\n"
   ]
  },
  {
   "cell_type": "code",
   "execution_count": 2,
   "id": "8fd0d98b-b571-4be5-b574-b4e51a5730cd",
   "metadata": {},
   "outputs": [
    {
     "name": "stdout",
     "output_type": "stream",
     "text": [
      "Shape: (5574, 2)\n"
     ]
    },
    {
     "data": {
      "text/html": [
       "<div>\n",
       "<style scoped>\n",
       "    .dataframe tbody tr th:only-of-type {\n",
       "        vertical-align: middle;\n",
       "    }\n",
       "\n",
       "    .dataframe tbody tr th {\n",
       "        vertical-align: top;\n",
       "    }\n",
       "\n",
       "    .dataframe thead th {\n",
       "        text-align: right;\n",
       "    }\n",
       "</style>\n",
       "<table border=\"1\" class=\"dataframe\">\n",
       "  <thead>\n",
       "    <tr style=\"text-align: right;\">\n",
       "      <th></th>\n",
       "      <th>label</th>\n",
       "      <th>message</th>\n",
       "    </tr>\n",
       "  </thead>\n",
       "  <tbody>\n",
       "    <tr>\n",
       "      <th>0</th>\n",
       "      <td>ham</td>\n",
       "      <td>Hey, are we still meeting today?</td>\n",
       "    </tr>\n",
       "    <tr>\n",
       "      <th>1</th>\n",
       "      <td>spam</td>\n",
       "      <td>You have been selected for a $500 Walmart gift...</td>\n",
       "    </tr>\n",
       "    <tr>\n",
       "      <th>2</th>\n",
       "      <td>ham</td>\n",
       "      <td>Lunch at 1 PM?</td>\n",
       "    </tr>\n",
       "    <tr>\n",
       "      <th>3</th>\n",
       "      <td>ham</td>\n",
       "      <td>I'll call you back soon.</td>\n",
       "    </tr>\n",
       "    <tr>\n",
       "      <th>4</th>\n",
       "      <td>ham</td>\n",
       "      <td>Hey, are we still meeting today?</td>\n",
       "    </tr>\n",
       "  </tbody>\n",
       "</table>\n",
       "</div>"
      ],
      "text/plain": [
       "  label                                            message\n",
       "0   ham                   Hey, are we still meeting today?\n",
       "1  spam  You have been selected for a $500 Walmart gift...\n",
       "2   ham                                     Lunch at 1 PM?\n",
       "3   ham                           I'll call you back soon.\n",
       "4   ham                   Hey, are we still meeting today?"
      ]
     },
     "metadata": {},
     "output_type": "display_data"
    },
    {
     "name": "stdout",
     "output_type": "stream",
     "text": [
      "Label distribution:\n"
     ]
    },
    {
     "data": {
      "text/plain": [
       "label\n",
       "ham     4829\n",
       "spam     745\n",
       "Name: count, dtype: int64"
      ]
     },
     "metadata": {},
     "output_type": "display_data"
    }
   ],
   "source": [
    "# Load the dataset\n",
    "df = pd.read_csv(\n",
    "    FILE_PATH,\n",
    "    sep='\\t',\n",
    "    header=None,\n",
    "    names=['label', 'message'],\n",
    "    encoding='utf-8'\n",
    ")\n",
    "\n",
    "print(\"Shape:\", df.shape)\n",
    "display(df.head())\n",
    "print(\"Label distribution:\")\n",
    "display(df['label'].value_counts())\n"
   ]
  },
  {
   "cell_type": "code",
   "execution_count": 3,
   "id": "de31ede5-14d5-4e3f-9f9a-cc6491863848",
   "metadata": {},
   "outputs": [
    {
     "name": "stdout",
     "output_type": "stream",
     "text": [
      "New shape after removing duplicates: (12, 2)\n"
     ]
    }
   ],
   "source": [
    "# Remove any duplicate rows\n",
    "df = df.drop_duplicates()\n",
    "\n",
    "# Confirm new shape after removing duplicates\n",
    "print(\"New shape after removing duplicates:\", df.shape)\n"
   ]
  },
  {
   "cell_type": "code",
   "execution_count": 4,
   "id": "85f4275e-9298-452a-8897-569b9050481b",
   "metadata": {},
   "outputs": [
    {
     "data": {
      "text/html": [
       "<div>\n",
       "<style scoped>\n",
       "    .dataframe tbody tr th:only-of-type {\n",
       "        vertical-align: middle;\n",
       "    }\n",
       "\n",
       "    .dataframe tbody tr th {\n",
       "        vertical-align: top;\n",
       "    }\n",
       "\n",
       "    .dataframe thead th {\n",
       "        text-align: right;\n",
       "    }\n",
       "</style>\n",
       "<table border=\"1\" class=\"dataframe\">\n",
       "  <thead>\n",
       "    <tr style=\"text-align: right;\">\n",
       "      <th></th>\n",
       "      <th>label</th>\n",
       "      <th>message</th>\n",
       "      <th>label_num</th>\n",
       "    </tr>\n",
       "  </thead>\n",
       "  <tbody>\n",
       "    <tr>\n",
       "      <th>0</th>\n",
       "      <td>ham</td>\n",
       "      <td>Hey, are we still meeting today?</td>\n",
       "      <td>0</td>\n",
       "    </tr>\n",
       "    <tr>\n",
       "      <th>1</th>\n",
       "      <td>spam</td>\n",
       "      <td>You have been selected for a $500 Walmart gift...</td>\n",
       "      <td>1</td>\n",
       "    </tr>\n",
       "    <tr>\n",
       "      <th>2</th>\n",
       "      <td>ham</td>\n",
       "      <td>Lunch at 1 PM?</td>\n",
       "      <td>0</td>\n",
       "    </tr>\n",
       "    <tr>\n",
       "      <th>3</th>\n",
       "      <td>ham</td>\n",
       "      <td>I'll call you back soon.</td>\n",
       "      <td>0</td>\n",
       "    </tr>\n",
       "    <tr>\n",
       "      <th>7</th>\n",
       "      <td>spam</td>\n",
       "      <td>Exclusive offer just for you—limited time only.</td>\n",
       "      <td>1</td>\n",
       "    </tr>\n",
       "  </tbody>\n",
       "</table>\n",
       "</div>"
      ],
      "text/plain": [
       "  label                                            message  label_num\n",
       "0   ham                   Hey, are we still meeting today?          0\n",
       "1  spam  You have been selected for a $500 Walmart gift...          1\n",
       "2   ham                                     Lunch at 1 PM?          0\n",
       "3   ham                           I'll call you back soon.          0\n",
       "7  spam    Exclusive offer just for you—limited time only.          1"
      ]
     },
     "metadata": {},
     "output_type": "display_data"
    }
   ],
   "source": [
    "# Map 'ham' to 0 and 'spam' to 1\n",
    "df['label_num'] = df['label'].map({'ham': 0, 'spam': 1})\n",
    "\n",
    "# Quick check\n",
    "display(df.head())\n"
   ]
  },
  {
   "cell_type": "code",
   "execution_count": 5,
   "id": "6eacd5c7-4be5-4637-88be-5278104f533b",
   "metadata": {},
   "outputs": [
    {
     "data": {
      "text/html": [
       "<div>\n",
       "<style scoped>\n",
       "    .dataframe tbody tr th:only-of-type {\n",
       "        vertical-align: middle;\n",
       "    }\n",
       "\n",
       "    .dataframe tbody tr th {\n",
       "        vertical-align: top;\n",
       "    }\n",
       "\n",
       "    .dataframe thead th {\n",
       "        text-align: right;\n",
       "    }\n",
       "</style>\n",
       "<table border=\"1\" class=\"dataframe\">\n",
       "  <thead>\n",
       "    <tr style=\"text-align: right;\">\n",
       "      <th></th>\n",
       "      <th>message</th>\n",
       "      <th>length</th>\n",
       "    </tr>\n",
       "  </thead>\n",
       "  <tbody>\n",
       "    <tr>\n",
       "      <th>0</th>\n",
       "      <td>Hey, are we still meeting today?</td>\n",
       "      <td>32</td>\n",
       "    </tr>\n",
       "    <tr>\n",
       "      <th>1</th>\n",
       "      <td>You have been selected for a $500 Walmart gift...</td>\n",
       "      <td>63</td>\n",
       "    </tr>\n",
       "    <tr>\n",
       "      <th>2</th>\n",
       "      <td>Lunch at 1 PM?</td>\n",
       "      <td>14</td>\n",
       "    </tr>\n",
       "    <tr>\n",
       "      <th>3</th>\n",
       "      <td>I'll call you back soon.</td>\n",
       "      <td>24</td>\n",
       "    </tr>\n",
       "    <tr>\n",
       "      <th>7</th>\n",
       "      <td>Exclusive offer just for you—limited time only.</td>\n",
       "      <td>47</td>\n",
       "    </tr>\n",
       "  </tbody>\n",
       "</table>\n",
       "</div>"
      ],
      "text/plain": [
       "                                             message  length\n",
       "0                   Hey, are we still meeting today?      32\n",
       "1  You have been selected for a $500 Walmart gift...      63\n",
       "2                                     Lunch at 1 PM?      14\n",
       "3                           I'll call you back soon.      24\n",
       "7    Exclusive offer just for you—limited time only.      47"
      ]
     },
     "metadata": {},
     "output_type": "display_data"
    }
   ],
   "source": [
    "# Create a feature for message length\n",
    "df['length'] = df['message'].apply(len)\n",
    "\n",
    "# Quick check\n",
    "display(df[['message', 'length']].head())\n"
   ]
  },
  {
   "cell_type": "code",
   "execution_count": 6,
   "id": "d7f7e7f3-b764-4fdc-bc41-da3eb5cecbe8",
   "metadata": {},
   "outputs": [
    {
     "name": "stdout",
     "output_type": "stream",
     "text": [
      "Label distribution:\n"
     ]
    },
    {
     "data": {
      "text/plain": [
       "label\n",
       "ham     6\n",
       "spam    6\n",
       "Name: count, dtype: int64"
      ]
     },
     "metadata": {},
     "output_type": "display_data"
    },
    {
     "name": "stdout",
     "output_type": "stream",
     "text": [
      "\n",
      "Message length stats by class:\n"
     ]
    },
    {
     "data": {
      "text/html": [
       "<div>\n",
       "<style scoped>\n",
       "    .dataframe tbody tr th:only-of-type {\n",
       "        vertical-align: middle;\n",
       "    }\n",
       "\n",
       "    .dataframe tbody tr th {\n",
       "        vertical-align: top;\n",
       "    }\n",
       "\n",
       "    .dataframe thead th {\n",
       "        text-align: right;\n",
       "    }\n",
       "</style>\n",
       "<table border=\"1\" class=\"dataframe\">\n",
       "  <thead>\n",
       "    <tr style=\"text-align: right;\">\n",
       "      <th></th>\n",
       "      <th>count</th>\n",
       "      <th>mean</th>\n",
       "      <th>std</th>\n",
       "      <th>min</th>\n",
       "      <th>25%</th>\n",
       "      <th>50%</th>\n",
       "      <th>75%</th>\n",
       "      <th>max</th>\n",
       "    </tr>\n",
       "    <tr>\n",
       "      <th>label</th>\n",
       "      <th></th>\n",
       "      <th></th>\n",
       "      <th></th>\n",
       "      <th></th>\n",
       "      <th></th>\n",
       "      <th></th>\n",
       "      <th></th>\n",
       "      <th></th>\n",
       "    </tr>\n",
       "  </thead>\n",
       "  <tbody>\n",
       "    <tr>\n",
       "      <th>ham</th>\n",
       "      <td>6.0</td>\n",
       "      <td>26.666667</td>\n",
       "      <td>7.554248</td>\n",
       "      <td>14.0</td>\n",
       "      <td>24.5</td>\n",
       "      <td>27.0</td>\n",
       "      <td>31.00</td>\n",
       "      <td>36.0</td>\n",
       "    </tr>\n",
       "    <tr>\n",
       "      <th>spam</th>\n",
       "      <td>6.0</td>\n",
       "      <td>53.500000</td>\n",
       "      <td>11.895377</td>\n",
       "      <td>39.0</td>\n",
       "      <td>44.0</td>\n",
       "      <td>54.5</td>\n",
       "      <td>62.75</td>\n",
       "      <td>67.0</td>\n",
       "    </tr>\n",
       "  </tbody>\n",
       "</table>\n",
       "</div>"
      ],
      "text/plain": [
       "       count       mean        std   min   25%   50%    75%   max\n",
       "label                                                            \n",
       "ham      6.0  26.666667   7.554248  14.0  24.5  27.0  31.00  36.0\n",
       "spam     6.0  53.500000  11.895377  39.0  44.0  54.5  62.75  67.0"
      ]
     },
     "metadata": {},
     "output_type": "display_data"
    }
   ],
   "source": [
    "# Label distribution\n",
    "print(\"Label distribution:\")\n",
    "display(df['label'].value_counts())\n",
    "\n",
    "# Length stats by class\n",
    "print(\"\\nMessage length stats by class:\")\n",
    "display(df.groupby('label')['length'].describe())\n"
   ]
  },
  {
   "cell_type": "code",
   "execution_count": 7,
   "id": "5044ecfb-2656-43e8-a6fd-c5a33db4f98c",
   "metadata": {},
   "outputs": [
    {
     "data": {
      "image/png": "[encoded data removed]",
      "text/plain": [
       "<Figure size 800x500 with 1 Axes>"
      ]
     },
     "metadata": {},
     "output_type": "display_data"
    }
   ],
   "source": [
    "plt.figure(figsize=(8,5))\n",
    "df[df['label'] == 'ham']['length'].plot.hist(bins=50, alpha=0.5, label='Ham')\n",
    "df[df['label'] == 'spam']['length'].plot.hist(bins=50, alpha=0.5, label='Spam')\n",
    "plt.legend()\n",
    "plt.title('Message Length Distribution')\n",
    "plt.xlabel('Message Length')\n",
    "plt.show()\n"
   ]
  },
  {
   "cell_type": "code",
   "execution_count": 8,
   "id": "e73cc9d5-8aa4-4ab0-a84c-918d25b1d341",
   "metadata": {},
   "outputs": [
    {
     "name": "stdout",
     "output_type": "stream",
     "text": [
      "✅ SP I Summary:\n",
      "\n",
      "- Dataset loaded successfully.\n",
      "- Removed duplicates to prevent model bias.\n",
      "- Converted labels ('ham' -> 0, 'spam' -> 1).\n",
      "- Added a message length feature.\n",
      "- Found that spam messages tend to be longer than ham messages.\n",
      "- Plotted message length distributions for spam vs ham.\n",
      "- The data is now cleaned and ready for machine learning modeling in SP II.\n",
      "\n"
     ]
    }
   ],
   "source": [
    "print(\"✅ SP I Summary:\")\n",
    "print(\"\"\"\n",
    "- Dataset loaded successfully.\n",
    "- Removed duplicates to prevent model bias.\n",
    "- Converted labels ('ham' -> 0, 'spam' -> 1).\n",
    "- Added a message length feature.\n",
    "- Found that spam messages tend to be longer than ham messages.\n",
    "- Plotted message length distributions for spam vs ham.\n",
    "- The data is now cleaned and ready for machine learning modeling in SP II.\n",
    "\"\"\")\n"
   ]
  },
  {
   "cell_type": "code",
   "execution_count": null,
   "id": "8f1778c5-5785-4d89-ba6c-e964f76751c9",
   "metadata": {},
   "outputs": [],
   "source": []
  }
 ],
 "metadata": {
  "kernelspec": {
   "display_name": "Python 3 (ipykernel)",
   "language": "python",
   "name": "python3"
  },
  "language_info": {
   "codemirror_mode": {
    "name": "ipython",
    "version": 3
   },
   "file_extension": ".py",
   "mimetype": "text/x-python",
   "name": "python",
   "nbconvert_exporter": "python",
   "pygments_lexer": "ipython3",
   "version": "3.13.3"
  }
 },
 "nbformat": 4,
 "nbformat_minor": 5
}
