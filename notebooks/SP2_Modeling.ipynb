{
 "cells": [
  {
   "cell_type": "code",
   "execution_count": 4,
   "id": "24ec4058-4ba1-4806-adf3-8355e4fa8720",
   "metadata": {},
   "outputs": [
    {
     "name": "stdout",
     "output_type": "stream",
     "text": [
      "Notebook running in: C:\\Users\\ryan5\\Documents\\SP1_EmailDetect\\notebooks\n",
      "Loading          : C:\\Users\\ryan5\\Documents\\SP1_EmailDetect\\data\\raw\\sms.tsv\n",
      "Exists?          : True\n",
      "Total lines      : 5574\n",
      "✅  Data loaded. Shape: (5574, 4)\n",
      "\n"
     ]
    },
    {
     "data": {
      "text/html": [
       "<div>\n",
       "<style scoped>\n",
       "    .dataframe tbody tr th:only-of-type {\n",
       "        vertical-align: middle;\n",
       "    }\n",
       "\n",
       "    .dataframe tbody tr th {\n",
       "        vertical-align: top;\n",
       "    }\n",
       "\n",
       "    .dataframe thead th {\n",
       "        text-align: right;\n",
       "    }\n",
       "</style>\n",
       "<table border=\"1\" class=\"dataframe\">\n",
       "  <thead>\n",
       "    <tr style=\"text-align: right;\">\n",
       "      <th></th>\n",
       "      <th>label</th>\n",
       "      <th>message</th>\n",
       "      <th>label_num</th>\n",
       "      <th>length</th>\n",
       "    </tr>\n",
       "  </thead>\n",
       "  <tbody>\n",
       "    <tr>\n",
       "      <th>0</th>\n",
       "      <td>ham</td>\n",
       "      <td>Hey, are we still meeting today?</td>\n",
       "      <td>0</td>\n",
       "      <td>32</td>\n",
       "    </tr>\n",
       "    <tr>\n",
       "      <th>1</th>\n",
       "      <td>spam</td>\n",
       "      <td>You have been selected for a $500 Walmart gift...</td>\n",
       "      <td>1</td>\n",
       "      <td>63</td>\n",
       "    </tr>\n",
       "    <tr>\n",
       "      <th>2</th>\n",
       "      <td>ham</td>\n",
       "      <td>Lunch at 1 PM?</td>\n",
       "      <td>0</td>\n",
       "      <td>14</td>\n",
       "    </tr>\n",
       "    <tr>\n",
       "      <th>3</th>\n",
       "      <td>ham</td>\n",
       "      <td>I'll call you back soon.</td>\n",
       "      <td>0</td>\n",
       "      <td>24</td>\n",
       "    </tr>\n",
       "    <tr>\n",
       "      <th>4</th>\n",
       "      <td>ham</td>\n",
       "      <td>Hey, are we still meeting today?</td>\n",
       "      <td>0</td>\n",
       "      <td>32</td>\n",
       "    </tr>\n",
       "  </tbody>\n",
       "</table>\n",
       "</div>"
      ],
      "text/plain": [
       "  label                                            message  label_num  length\n",
       "0   ham                   Hey, are we still meeting today?          0      32\n",
       "1  spam  You have been selected for a $500 Walmart gift...          1      63\n",
       "2   ham                                     Lunch at 1 PM?          0      14\n",
       "3   ham                           I'll call you back soon.          0      24\n",
       "4   ham                   Hey, are we still meeting today?          0      32"
      ]
     },
     "metadata": {},
     "output_type": "display_data"
    }
   ],
   "source": [
    "# ─── Cell 1: IMPORTS & DATA LOAD ─────────────────────────────────────────────\n",
    "\n",
    "import os\n",
    "from pathlib import Path\n",
    "\n",
    "import pandas as pd\n",
    "import numpy as np\n",
    "import matplotlib.pyplot as plt\n",
    "from IPython.display import display\n",
    "\n",
    "# confirm inline plots\n",
    "%matplotlib inline\n",
    "\n",
    "# build path relative to this notebook\n",
    "cwd      = Path().resolve()\n",
    "data_raw = cwd.parent / \"data\" / \"raw\"\n",
    "FILE     = data_raw / \"sms.tsv\"\n",
    "\n",
    "print(\"Notebook running in:\", cwd)\n",
    "print(\"Loading          :\", FILE)\n",
    "print(\"Exists?          :\", FILE.exists())\n",
    "print(\"Total lines      :\", sum(1 for _ in open(FILE, encoding=\"utf-8\")))\n",
    "\n",
    "# load every row (no dedup)\n",
    "df = pd.read_csv(\n",
    "    FILE,\n",
    "    sep=\"\\t\",\n",
    "    header=None,\n",
    "    names=[\"label\",\"message\"],\n",
    "    encoding=\"utf-8\"\n",
    ")\n",
    "\n",
    "# add numeric and length features\n",
    "df[\"label_num\"] = df[\"label\"].map({\"ham\":0,\"spam\":1})\n",
    "df[\"length\"]    = df[\"message\"].str.len()\n",
    "\n",
    "print(f\"✅  Data loaded. Shape: {df.shape}\\n\")\n",
    "display(df.head())\n"
   ]
  },
  {
   "cell_type": "code",
   "execution_count": 5,
   "id": "45bcbe9b-a535-4a64-870c-24f8f3469aff",
   "metadata": {},
   "outputs": [
    {
     "name": "stdout",
     "output_type": "stream",
     "text": [
      "Label counts:\n",
      " label\n",
      "ham     4829\n",
      "spam     745\n",
      "Name: count, dtype: int64 \n",
      "\n"
     ]
    },
    {
     "data": {
      "text/plain": [
       "<Figure size 800x400 with 0 Axes>"
      ]
     },
     "metadata": {},
     "output_type": "display_data"
    },
    {
     "data": {
      "image/png": "[encoded data removed]",
      "text/plain": [
       "<Figure size 640x480 with 1 Axes>"
      ]
     },
     "metadata": {},
     "output_type": "display_data"
    }
   ],
   "source": [
    "# ─── Cell 2: QUICK EDA ────────────────────────────────────────────────────────\n",
    "\n",
    "# 1) label balance\n",
    "counts = df[\"label\"].value_counts()\n",
    "print(\"Label counts:\\n\", counts, \"\\n\")\n",
    "\n",
    "# 2) length distribution by label\n",
    "plt.figure(figsize=(8,4))\n",
    "df.boxplot(\"length\", by=\"label\", grid=False)\n",
    "plt.title(\"Message length by label\")\n",
    "plt.suptitle(\"\")    # remove automatic subtitle\n",
    "plt.ylabel(\"length (chars)\")\n",
    "plt.show()\n"
   ]
  },
  {
   "cell_type": "code",
   "execution_count": 6,
   "id": "ead03b9a-8f59-4e62-929e-b0465b3c90fb",
   "metadata": {},
   "outputs": [
    {
     "name": "stdout",
     "output_type": "stream",
     "text": [
      "Train rows: 3901   Test rows: 1673\n",
      "✅  Vectorized. Shapes→ X_train: (3901, 45) X_test: (1673, 45)\n"
     ]
    }
   ],
   "source": [
    "# ─── Cell 3: SPLIT & VECTORIZE ───────────────────────────────────────────────\n",
    "\n",
    "from sklearn.model_selection       import train_test_split\n",
    "from sklearn.feature_extraction.text import TfidfVectorizer\n",
    "\n",
    "# split\n",
    "X = df[\"message\"]\n",
    "y = df[\"label_num\"]\n",
    "\n",
    "X_train, X_test, y_train, y_test = train_test_split(\n",
    "    X, y,\n",
    "    test_size=0.30,\n",
    "    random_state=42,\n",
    "    stratify=y\n",
    ")\n",
    "print(\"Train rows:\", X_train.shape[0], \"  Test rows:\", X_test.shape[0])\n",
    "\n",
    "# tf-idf\n",
    "vectorizer    = TfidfVectorizer(stop_words=\"english\")\n",
    "X_train_tfidf = vectorizer.fit_transform(X_train)\n",
    "X_test_tfidf  = vectorizer.transform(X_test)\n",
    "\n",
    "print(\"✅  Vectorized. Shapes→\", \n",
    "      \"X_train:\", X_train_tfidf.shape, \n",
    "      \"X_test:\", X_test_tfidf.shape)\n"
   ]
  },
  {
   "cell_type": "code",
   "execution_count": 7,
   "id": "6b7e7fde-4363-4a16-b97f-ef0fd1dd4404",
   "metadata": {},
   "outputs": [
    {
     "name": "stdout",
     "output_type": "stream",
     "text": [
      "✅  Test Accuracy: 1.0000\n",
      "\n",
      "Classification Report:\n",
      "              precision    recall  f1-score   support\n",
      "\n",
      "         ham       1.00      1.00      1.00      1449\n",
      "        spam       1.00      1.00      1.00       224\n",
      "\n",
      "    accuracy                           1.00      1673\n",
      "   macro avg       1.00      1.00      1.00      1673\n",
      "weighted avg       1.00      1.00      1.00      1673\n",
      "\n",
      "Confusion Matrix:\n",
      "[[1449    0]\n",
      " [   0  224]]\n"
     ]
    }
   ],
   "source": [
    "# ─── Cell 4: TRAIN & EVALUATE ────────────────────────────────────────────────\n",
    "\n",
    "from sklearn.linear_model import LogisticRegression\n",
    "from sklearn.metrics       import (\n",
    "    accuracy_score,\n",
    "    classification_report,\n",
    "    confusion_matrix\n",
    ")\n",
    "\n",
    "# train\n",
    "model = LogisticRegression(max_iter=1000)\n",
    "model.fit(X_train_tfidf, y_train)\n",
    "\n",
    "# predict & eval\n",
    "y_pred = model.predict(X_test_tfidf)\n",
    "acc    = accuracy_score(y_test, y_pred)\n",
    "\n",
    "print(f\"✅  Test Accuracy: {acc:.4f}\\n\")\n",
    "print(\"Classification Report:\")\n",
    "print(classification_report(y_test, y_pred, target_names=[\"ham\",\"spam\"]))\n",
    "\n",
    "print(\"Confusion Matrix:\")\n",
    "print(confusion_matrix(y_test, y_pred))\n"
   ]
  },
  {
   "cell_type": "code",
   "execution_count": 8,
   "id": "8d8a3027-3c82-47af-ac4d-296bbaad2d2f",
   "metadata": {},
   "outputs": [
    {
     "name": "stdout",
     "output_type": "stream",
     "text": [
      "✅  Saved tfidf.pkl and logreg.pkl to C:\\Users\\ryan5\\Documents\\SP1_EmailDetect\\models\n"
     ]
    }
   ],
   "source": [
    "# ─── Cell 5: SAVE ARTIFACTS ───────────────────────────────────────────────────\n",
    "\n",
    "import pickle\n",
    "from pathlib import Path\n",
    "\n",
    "# 1) Make a models/ folder at the project root\n",
    "#    Notebook lives in SP1_EmailDetect/notebooks, so go up two levels:\n",
    "models_dir = Path().resolve().parent / \"models\"\n",
    "models_dir.mkdir(exist_ok=True)\n",
    "\n",
    "# 2) Dump TF-IDF vectorizer and LogisticRegression model\n",
    "pickle.dump(vectorizer, open(models_dir/\"tfidf.pkl\", \"wb\"))\n",
    "pickle.dump(model,      open(models_dir/\"logreg.pkl\", \"wb\"))\n",
    "\n",
    "print(\"✅  Saved tfidf.pkl and logreg.pkl to\", models_dir)\n"
   ]
  },
  {
   "cell_type": "code",
   "execution_count": null,
   "id": "38f6a6fc-a897-4146-af0f-07ed827743bb",
   "metadata": {},
   "outputs": [],
   "source": []
  }
 ],
 "metadata": {
  "kernelspec": {
   "display_name": "Python 3 (ipykernel)",
   "language": "python",
   "name": "python3"
  },
  "language_info": {
   "codemirror_mode": {
    "name": "ipython",
    "version": 3
   },
   "file_extension": ".py",
   "mimetype": "text/x-python",
   "name": "python",
   "nbconvert_exporter": "python",
   "pygments_lexer": "ipython3",
   "version": "3.13.3"
  }
 },
 "nbformat": 4,
 "nbformat_minor": 5
}
